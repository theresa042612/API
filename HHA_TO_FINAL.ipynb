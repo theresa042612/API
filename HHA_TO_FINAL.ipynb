{
  "nbformat": 4,
  "nbformat_minor": 0,
  "metadata": {
    "colab": {
      "name": "HHA TO FINAL.ipynb",
      "provenance": [],
      "authorship_tag": "ABX9TyOJOs2/wzjJPS3lWciq7yKi",
      "include_colab_link": true
    },
    "kernelspec": {
      "name": "python3",
      "display_name": "Python 3"
    },
    "language_info": {
      "name": "python"
    }
  },
  "cells": [
    {
      "cell_type": "markdown",
      "metadata": {
        "id": "view-in-github",
        "colab_type": "text"
      },
      "source": [
        "<a href=\"https://colab.research.google.com/github/theresa042612/API/blob/main/HHA_TO_FINAL.ipynb\" target=\"_parent\"><img src=\"https://colab.research.google.com/assets/colab-badge.svg\" alt=\"Open In Colab\"/></a>"
      ]
    },
    {
      "cell_type": "code",
      "execution_count": null,
      "metadata": {
        "id": "1zz-WucRMslN"
      },
      "outputs": [],
      "source": [
        "import matplotlib as plt\n",
        "%matplotlib inline"
      ]
    },
    {
      "cell_type": "code",
      "source": [
        "import pandas as pd \n"
      ],
      "metadata": {
        "id": "M_BNTnZaNHu8"
      },
      "execution_count": null,
      "outputs": []
    },
    {
      "cell_type": "code",
      "source": [
        "!pip install sweetviz"
      ],
      "metadata": {
        "id": "8M7mg2eUNTeA"
      },
      "execution_count": null,
      "outputs": []
    },
    {
      "cell_type": "code",
      "source": [
        "import sweetviz"
      ],
      "metadata": {
        "id": "ZKlyik4hNWkS"
      },
      "execution_count": null,
      "outputs": []
    },
    {
      "cell_type": "code",
      "source": [
        "from pandas_profiling import ProfileReport"
      ],
      "metadata": {
        "id": "9zW33ce7NYVv"
      },
      "execution_count": null,
      "outputs": []
    },
    {
      "cell_type": "code",
      "source": [
        "!pip install -U https://github.com/pandas-profiling/pandas-profiling/archive/master.zip\n",
        "\n",
        "!pip install -U pandas-profiling\n",
        "\n",
        "import pandas_profiling as pp\n",
        "from pandas_profiling import ProfileReport"
      ],
      "metadata": {
        "id": "1ViWUan6Ni_d"
      },
      "execution_count": null,
      "outputs": []
    },
    {
      "cell_type": "markdown",
      "source": [
        "Loading Data frames"
      ],
      "metadata": {
        "id": "eqltNKBmNpLb"
      }
    },
    {
      "cell_type": "code",
      "source": [
        "# Loading files \n",
        "hospital_info = pd.read_csv('https://raw.githubusercontent.com/hantswilliams/AHI_DataSci_507/main/Deployment_Streamlit/hospital_info.csv')\n",
        "outpatient2015 = pd.read_csv('https://raw.githubusercontent.com/hantswilliams/AHI_DataSci_507/main/Deployment_Streamlit/outpatient_2015.csv')\n",
        "inpatient2015 = pd.read_csv('https://raw.githubusercontent.com/hantswilliams/AHI_DataSci_507/main/Deployment_Streamlit/inpatient_2015.csv')"
      ],
      "metadata": {
        "id": "b8qdMM9uNqx4"
      },
      "execution_count": null,
      "outputs": []
    },
    {
      "cell_type": "markdown",
      "source": [
        "Explaratory Analysis"
      ],
      "metadata": {
        "id": "aXuOd5OaNwvp"
      }
    },
    {
      "cell_type": "code",
      "source": [
        "print('HospitalInfoLength: ', len(hospital_info))\n",
        "print('OutpatientLength: ', len(outpatient2015))\n",
        "print('InpatientLength: ', len(inpatient2015))"
      ],
      "metadata": {
        "id": "7qAZ4LnsN4bF"
      },
      "execution_count": null,
      "outputs": []
    },
    {
      "cell_type": "code",
      "source": [
        "hospital_info.sample(20)"
      ],
      "metadata": {
        "id": "G7Kw-LgnN9q1"
      },
      "execution_count": null,
      "outputs": []
    },
    {
      "cell_type": "code",
      "source": [
        "outpatient2015.sample(20)"
      ],
      "metadata": {
        "id": "2LCwkeZWOAbd"
      },
      "execution_count": null,
      "outputs": []
    },
    {
      "cell_type": "code",
      "source": [
        "inpatient2015.sample(20)"
      ],
      "metadata": {
        "id": "a6vT3snjODb5"
      },
      "execution_count": null,
      "outputs": []
    },
    {
      "cell_type": "markdown",
      "source": [
        "Data profiling"
      ],
      "metadata": {
        "id": "BRpckAcDORvI"
      }
    },
    {
      "cell_type": "code",
      "source": [
        "profile_hospital = ProfileReport(hospital_info, title=\"Pandas Profiling Report - Hospital_Info\", infer_dtypes=False)"
      ],
      "metadata": {
        "id": "CDtLfJIuOWR8"
      },
      "execution_count": null,
      "outputs": []
    },
    {
      "cell_type": "code",
      "source": [
        "profile_outpatient = ProfileReport(outpatient2015, title=\"Pandas Profiling Report - Outpatient_Info\", infer_dtypes=False) "
      ],
      "metadata": {
        "id": "XsQ7WBcOOYN1"
      },
      "execution_count": null,
      "outputs": []
    },
    {
      "cell_type": "code",
      "source": [
        "profile_inpatient = ProfileReport(inpatient2015, title=\"Pandas Profiling Report - Inpatient_Info\", infer_dtypes=False)"
      ],
      "metadata": {
        "id": "NmssRodWO_oy"
      },
      "execution_count": null,
      "outputs": []
    },
    {
      "cell_type": "code",
      "source": [
        "profile_hospital"
      ],
      "metadata": {
        "id": "WBOOeMi8PCCZ"
      },
      "execution_count": null,
      "outputs": []
    },
    {
      "cell_type": "code",
      "source": [
        "hospital_info['provider_id'] = hospital_info['provider_id'].astype(str)\n",
        "outpatient2015['provider_id'] = outpatient2015['provider_id'].astype(str)\n",
        "inpatient2015['provider_id'] = inpatient2015['provider_id'].astype(str)"
      ],
      "metadata": {
        "id": "nBQtC76tPHN4"
      },
      "execution_count": null,
      "outputs": []
    },
    {
      "cell_type": "markdown",
      "source": [
        "Additional imports to attempt cleaning and removal of null/missing values"
      ],
      "metadata": {
        "id": "279lPUB1PKI7"
      }
    },
    {
      "cell_type": "code",
      "source": [
        "!pip install mysqlclient"
      ],
      "metadata": {
        "id": "AldTRKXkPVeZ"
      },
      "execution_count": null,
      "outputs": []
    },
    {
      "cell_type": "code",
      "source": [
        "import configparser as Configparser\n",
        "    from six.moves import configparser"
      ],
      "metadata": {
        "id": "MVRWYXfwPYIB"
      },
      "execution_count": null,
      "outputs": []
    },
    {
      "cell_type": "code",
      "source": [
        "!pip install pyjanitor"
      ],
      "metadata": {
        "id": "UN9EXd6BPbqy"
      },
      "execution_count": null,
      "outputs": []
    },
    {
      "cell_type": "code",
      "source": [
        "!pip install pyyaml==5.4.1"
      ],
      "metadata": {
        "id": "UrW7ZYOhPdft"
      },
      "execution_count": null,
      "outputs": []
    },
    {
      "cell_type": "code",
      "source": [
        "from janitor import clean_names, remove_empty"
      ],
      "metadata": {
        "id": "OOhzRdEGPf5_"
      },
      "execution_count": null,
      "outputs": []
    },
    {
      "cell_type": "code",
      "source": [
        "df_hospital = clean_names(hospital_info)\n",
        "df_hospital = remove_empty(hospital_info)\n",
        "\n",
        "df_inpatient = clean_names(inpatient2015)\n",
        "df_inpatient = remove_empty(inpatient2015)\n",
        "\n",
        "df_outpatient = clean_names(outpatient2015)\n",
        "df_outpatient = remove_empty(outpatient2015)"
      ],
      "metadata": {
        "id": "WffmoP2iPiS1"
      },
      "execution_count": null,
      "outputs": []
    },
    {
      "cell_type": "code",
      "source": [
        "Profile_df_hospital = ProfileReport(df_hospital, title=\"Pandas Profiling Report - Hospital_clean_Info\", infer_dtypes=False)\n",
        "Profile_df_hospital"
      ],
      "metadata": {
        "id": "4CJSU8ibPk5s"
      },
      "execution_count": null,
      "outputs": []
    },
    {
      "cell_type": "markdown",
      "source": [
        "Merging Data frames"
      ],
      "metadata": {
        "id": "UZFu0I5pPpSS"
      }
    },
    {
      "cell_type": "markdown",
      "source": [
        "Profiling MErged Data sets"
      ],
      "metadata": {
        "id": "DaaCzqNkPwJ_"
      }
    },
    {
      "cell_type": "code",
      "source": [
        "profile_merge_outpt = ProfileReport(df_merge_outpt, title=\"Pandas Profiling Report - Outpatient_merge_Info\", infer_dtypes=False)"
      ],
      "metadata": {
        "id": "17i8oFLGP2CW"
      },
      "execution_count": null,
      "outputs": []
    },
    {
      "cell_type": "code",
      "source": [
        "profile_merge_outpt"
      ],
      "metadata": {
        "id": "KkRABemJP4Cu"
      },
      "execution_count": null,
      "outputs": []
    },
    {
      "cell_type": "markdown",
      "source": [
        "Creating a stony brook only dataset for hospital/outpatient merged data"
      ],
      "metadata": {
        "id": "RlnxO6AhP_oH"
      }
    },
    {
      "cell_type": "code",
      "source": [
        "# Stony brook data for Hospital/outpatient merged dataset\n",
        "sb_merge_outpt = df_merge_outpt[df_merge_outpt['provider_id'] == '330393']\n",
        "sb_merge_outpt.sample(10)"
      ],
      "metadata": {
        "id": "jDymx2FMQHjS"
      },
      "execution_count": null,
      "outputs": []
    },
    {
      "cell_type": "markdown",
      "source": [
        "Creating a non  stony brook"
      ],
      "metadata": {
        "id": "utOfEImWQNYK"
      }
    },
    {
      "cell_type": "code",
      "source": [
        "# Non Stony Brook Data for Hospital/Outpatient merged dataset\n",
        "nonsb_merge_outpt = df_merge_outpt[df_merge_outpt['provider_id'] != '330393']\n",
        "nonsb_merge_outpt.sample(10)"
      ],
      "metadata": {
        "id": "0Aj5vs9mQSFg"
      },
      "execution_count": null,
      "outputs": []
    },
    {
      "cell_type": "markdown",
      "source": [
        "Inpatient merged data"
      ],
      "metadata": {
        "id": "9jBoJ0IVQVFH"
      }
    },
    {
      "cell_type": "code",
      "source": [
        "# Stony brook data for Hospital/Inpatient merged dataset\n",
        "sb_merge_inpt = df_merge_inpt[df_merge_inpt['provider_id'] == '330393']\n",
        "sb_merge_inpt.sample(10)"
      ],
      "metadata": {
        "id": "d65gk4OcQWyP"
      },
      "execution_count": null,
      "outputs": []
    },
    {
      "cell_type": "code",
      "source": [
        "# Non Stony Brook Data for Hospital/Inpatient merged dataset\n",
        "nonsb_merge_inpt = df_merge_inpt[df_merge_inpt['provider_id'] != '330393']\n",
        "nonsb_merge_inpt.sample(10)"
      ],
      "metadata": {
        "id": "dHWAClIDQcX9"
      },
      "execution_count": null,
      "outputs": []
    },
    {
      "cell_type": "markdown",
      "source": [
        "Question1: How does the data for Stony Brook compare to other outpatient facilities for the most expensive APCs?"
      ],
      "metadata": {
        "id": "9px8vwVLQgWv"
      }
    },
    {
      "cell_type": "code",
      "source": [
        "sb_merge_outpt['average_total_payments'].isna().sum()"
      ],
      "metadata": {
        "id": "mmspUpXgQhAx"
      },
      "execution_count": null,
      "outputs": []
    },
    {
      "cell_type": "code",
      "source": [
        "sb_merge_inpt['average_total_payments'].isna().sum()"
      ],
      "metadata": {
        "id": "NDnULNINQkG0"
      },
      "execution_count": null,
      "outputs": []
    },
    {
      "cell_type": "code",
      "source": [
        "# Stony Brook -> Most expensive outpatient APCs\n",
        "SB_Outpatient_APCs_pivot = sb_merge_outpt.pivot_table(index=['provider_id','apc'],values=['average_total_payments'])\n",
        "NonSB_Outpatient_APCs_pivot = nonsb_merge_outpt.pivot_table(index=['provider_id','apc'],values=['average_total_payments'])"
      ],
      "metadata": {
        "id": "PxEhJFtgQmrC"
      },
      "execution_count": null,
      "outputs": []
    },
    {
      "cell_type": "code",
      "source": [
        "SB_Outpatient_APCs_pivot"
      ],
      "metadata": {
        "id": "S0GqHo-oQor_"
      },
      "execution_count": null,
      "outputs": []
    },
    {
      "cell_type": "code",
      "source": [
        "SB_Outpatient_APCs_pivot.sort_values(['average_total_payments'], ascending=False)"
      ],
      "metadata": {
        "id": "3yMg8HImQq08"
      },
      "execution_count": null,
      "outputs": []
    },
    {
      "cell_type": "code",
      "source": [
        "NonSB_Outpatient_APCs_pivot"
      ],
      "metadata": {
        "id": "rmCBkhTVQs-X"
      },
      "execution_count": null,
      "outputs": []
    },
    {
      "cell_type": "code",
      "source": [
        "NonSB_Outpatient_APCs_pivot.sort_values(by=['average_total_payments'], ascending=False)"
      ],
      "metadata": {
        "id": "E0cvz7eqQvKr"
      },
      "execution_count": null,
      "outputs": []
    },
    {
      "cell_type": "markdown",
      "source": [
        "Question2: How does the data for Stony Brook compare to other inpatient facilities for the most expensive DRGs?"
      ],
      "metadata": {
        "id": "gJdLq5ESQxlM"
      }
    },
    {
      "cell_type": "code",
      "source": [
        "# Stony Brook -> Most expensive inpatient DRGs\n",
        "SB_Inpatient_DRGs_pivot = sb_merge_inpt.pivot_table(index=['provider_id','drg_definition'],values=['average_total_payments'])\n",
        "NonSB_Inpatient_DRGs_pivot = nonsb_merge_inpt.pivot_table(index=['provider_id','drg_definition'],values=['average_total_payments'])"
      ],
      "metadata": {
        "id": "Hc0Yt0xBQ0tk"
      },
      "execution_count": null,
      "outputs": []
    },
    {
      "cell_type": "code",
      "source": [
        "SB_Inpatient_DRGs_pivot"
      ],
      "metadata": {
        "id": "Vur0QaPvQ3wB"
      },
      "execution_count": null,
      "outputs": []
    },
    {
      "cell_type": "code",
      "source": [
        "SB_Inpatient_DRGs_pivot.sort_values(by=['average_total_payments'], ascending=False)"
      ],
      "metadata": {
        "id": "teJqhO0xQ7dL"
      },
      "execution_count": null,
      "outputs": []
    },
    {
      "cell_type": "code",
      "source": [
        "NonSB_Inpatient_DRGs_pivot"
      ],
      "metadata": {
        "id": "YkEeLS8SQ9tI"
      },
      "execution_count": null,
      "outputs": []
    },
    {
      "cell_type": "code",
      "source": [
        "NonSB_Inpatient_DRGs_pivot.sort_values(by=['average_total_payments'], ascending=False)"
      ],
      "metadata": {
        "id": "yEBxWowvQ_vB"
      },
      "execution_count": null,
      "outputs": []
    },
    {
      "cell_type": "markdown",
      "source": [
        "Except stony brook"
      ],
      "metadata": {
        "id": "Rr9xJ31HRCUg"
      }
    },
    {
      "cell_type": "code",
      "source": [
        "# NY data for Hospital/Outpatient merged dataset (except StonyBrook)\n",
        "NY_nonsb_merge_outpt = nonsb_merge_outpt[nonsb_merge_outpt['provider_state'] == 'NY']\n",
        "NY_nonsb_merge_outpt.sample(10)"
      ],
      "metadata": {
        "id": "u3RYZW4RRD_M"
      },
      "execution_count": null,
      "outputs": []
    },
    {
      "cell_type": "code",
      "source": [
        "# NY data for Hospital/Inpatient merged dataset (except StonyBrook)\n",
        "NY_nonsb_merge_inpt = nonsb_merge_inpt[nonsb_merge_inpt['provider_state'] == 'NY']\n",
        "NY_nonsb_merge_inpt.sample(10)"
      ],
      "metadata": {
        "id": "NRAAz966RK1W"
      },
      "execution_count": null,
      "outputs": []
    },
    {
      "cell_type": "code",
      "source": [
        "sb_merge_outpt['mortality_national_comparison'].isna().sum()"
      ],
      "metadata": {
        "id": "Qgc4pKhNRNN_"
      },
      "execution_count": null,
      "outputs": []
    },
    {
      "cell_type": "code",
      "source": [
        "NY_nonsb_merge_outpt['mortality_national_comparison'].isna().sum()"
      ],
      "metadata": {
        "id": "FwRmfCn1RNyF"
      },
      "execution_count": null,
      "outputs": []
    },
    {
      "cell_type": "code",
      "source": [
        "NY_nonsb_merge_outpt_nonull = NY_nonsb_merge_outpt[~NY_nonsb_merge_outpt['mortality_national_comparison'].isnull()]\n",
        "NY_nonsb_merge_outpt_nonull['mortality_national_comparison'].isna().sum()"
      ],
      "metadata": {
        "id": "-O21LcV9RPi_"
      },
      "execution_count": null,
      "outputs": []
    },
    {
      "cell_type": "code",
      "source": [
        "sb_merge_inpt['mortality_national_comparison'].isna().sum()"
      ],
      "metadata": {
        "id": "bT9lpJv6RRx6"
      },
      "execution_count": null,
      "outputs": []
    },
    {
      "cell_type": "code",
      "source": [
        "NY_nonsb_merge_inpt['mortality_national_comparison'].isna().sum()"
      ],
      "metadata": {
        "id": "G0iVrSCqRULJ"
      },
      "execution_count": null,
      "outputs": []
    },
    {
      "cell_type": "code",
      "source": [
        "NY_nonsb_merge_inpt_nonull = NY_nonsb_merge_inpt[~NY_nonsb_merge_inpt['mortality_national_comparison'].isnull()]\n",
        "NY_nonsb_merge_inpt_nonull['mortality_national_comparison'].isna().sum()"
      ],
      "metadata": {
        "id": "5ali5vkqRYd3"
      },
      "execution_count": null,
      "outputs": []
    },
    {
      "cell_type": "markdown",
      "source": [
        "Question3: How does the data for Stony Brook compare to other NY outpatient facilities when looking at the mortality national comparison and outpatient services?"
      ],
      "metadata": {
        "id": "fjFsTxmtRa5I"
      }
    },
    {
      "cell_type": "code",
      "source": [
        "# Stony Brook -> NY (mortality national comparison (MNC)) (Outpatient)\n",
        "SB_Outpatient_MNCs_pivot = sb_merge_outpt.pivot_table(index=['provider_id','mortality_national_comparison'],values=['outpatient_services'])\n",
        "NY_NonSB_Outpatient_MNCs_pivot = NY_nonsb_merge_outpt_nonull.pivot_table(index=['provider_id','mortality_national_comparison'],values=['outpatient_services'])"
      ],
      "metadata": {
        "id": "nN4OntcKRbpc"
      },
      "execution_count": null,
      "outputs": []
    },
    {
      "cell_type": "code",
      "source": [
        "SB_Outpatient_MNCs_pivot"
      ],
      "metadata": {
        "id": "lJdgmUkIRfDU"
      },
      "execution_count": null,
      "outputs": []
    },
    {
      "cell_type": "code",
      "source": [
        "NY_NonSB_Outpatient_MNCs_pivot"
      ],
      "metadata": {
        "id": "ccpjUX_ZRmHx"
      },
      "execution_count": null,
      "outputs": []
    },
    {
      "cell_type": "code",
      "source": [
        "NY_NonSB_Outpatient_MNCs_pivot['outpatient_services'].mean()"
      ],
      "metadata": {
        "id": "4yuQMd_lRpI-"
      },
      "execution_count": null,
      "outputs": []
    },
    {
      "cell_type": "markdown",
      "source": [
        "Question4: How does the data for Stony Brook compare to other NY inpatient facilities when looking at the mortality national comparison and total discharges?"
      ],
      "metadata": {
        "id": "93V3De7nRsy7"
      }
    },
    {
      "cell_type": "code",
      "source": [
        "# Stony Brook -> NY (mortality national comparison (MNC)) (Inpatient)\n",
        "SB_Inpatient_MNCs_pivot = sb_merge_inpt.pivot_table(index=['provider_id','mortality_national_comparison'],values=['total_discharges'])\n",
        "NY_NonSB_Inpatient_MNCs_pivot = NY_nonsb_merge_inpt_nonull.pivot_table(index=['provider_id','mortality_national_comparison'],values=['total_discharges'])"
      ],
      "metadata": {
        "id": "bazD3pSvRvSX"
      },
      "execution_count": null,
      "outputs": []
    },
    {
      "cell_type": "code",
      "source": [
        "SB_Inpatient_MNCs_pivot"
      ],
      "metadata": {
        "id": "JyzVxaArRxTu"
      },
      "execution_count": null,
      "outputs": []
    },
    {
      "cell_type": "code",
      "source": [
        "NY_NonSB_Inpatient_MNCs_pivot"
      ],
      "metadata": {
        "id": "-Sn1vtwhRx-m"
      },
      "execution_count": null,
      "outputs": []
    },
    {
      "cell_type": "code",
      "source": [
        "NY_NonSB_Inpatient_MNCs_pivot['total_discharges'].mean()"
      ],
      "metadata": {
        "id": "EB98sUg_Rz7Z"
      },
      "execution_count": null,
      "outputs": []
    },
    {
      "cell_type": "markdown",
      "source": [
        "Question5: What is the correlation between effectiveness of care compared to the readmission national comparison?"
      ],
      "metadata": {
        "id": "RDQwITj5R3yc"
      }
    },
    {
      "cell_type": "code",
      "source": [
        "hospital_info['effectiveness_of_care_national_comparison'].isna().sum()"
      ],
      "metadata": {
        "id": "RGhiGVSrR5cU"
      },
      "execution_count": null,
      "outputs": []
    },
    {
      "cell_type": "code",
      "source": [
        "hospital_info['readmission_national_comparison_footnote'].isna().sum()"
      ],
      "metadata": {
        "id": "rB0nDQiqR7CO"
      },
      "execution_count": null,
      "outputs": []
    },
    {
      "cell_type": "code",
      "source": [
        "readmission_hospital_nonull = hospital_info[~hospital_info['readmission_national_comparison_footnote'].isnull()]\n",
        "readmission_hospital_nonull['readmission_national_comparison_footnote'].isna().sum()"
      ],
      "metadata": {
        "id": "Grza2_dRR8_6"
      },
      "execution_count": null,
      "outputs": []
    },
    {
      "cell_type": "code",
      "source": [
        "readmission_pivot = readmission_hospital_nonull.pivot_table(index=['state', 'effectiveness_of_care_national_comparison'],values=['readmission_national_comparison_footnote'])"
      ],
      "metadata": {
        "id": "rR-zgJzCSAF-"
      },
      "execution_count": null,
      "outputs": []
    },
    {
      "cell_type": "code",
      "source": [
        "readmission_pivot"
      ],
      "metadata": {
        "id": "HkCRtQitSB37"
      },
      "execution_count": null,
      "outputs": []
    },
    {
      "cell_type": "code",
      "source": [
        "df_Chart1 = readmission_hospital_nonull[['effectiveness_of_care_national_comparison', 'readmission_national_comparison_footnote']]"
      ],
      "metadata": {
        "id": "b0iPPtOaSECb"
      },
      "execution_count": null,
      "outputs": []
    },
    {
      "cell_type": "code",
      "source": [
        "df_Chart1"
      ],
      "metadata": {
        "id": "OKNtmdsLSH9E"
      },
      "execution_count": null,
      "outputs": []
    },
    {
      "cell_type": "code",
      "source": [
        "df_Chart1.plot.scatter(x='effectiveness_of_care_national_comparison', y = 'readmission_national_comparison_footnote')\n"
      ],
      "metadata": {
        "id": "-lBpFcWYSL70"
      },
      "execution_count": null,
      "outputs": []
    },
    {
      "cell_type": "markdown",
      "source": [
        "Question6: What is the correlation between effectiveness of care compared to the safety of care national comparison?"
      ],
      "metadata": {
        "id": "umtF1iqqSQhL"
      }
    },
    {
      "cell_type": "code",
      "source": [
        "hospital_info['effectiveness_of_care_national_comparison_footnote'].isna().sum()"
      ],
      "metadata": {
        "id": "XC2jBUYeSRKD"
      },
      "execution_count": null,
      "outputs": []
    },
    {
      "cell_type": "code",
      "source": [
        "effectiveness_hospital_nonull = hospital_info[~hospital_info['effectiveness_of_care_national_comparison_footnote'].isnull()]\n",
        "effectiveness_hospital_nonull['effectiveness_of_care_national_comparison_footnote'].isna().sum()"
      ],
      "metadata": {
        "id": "fPnPaqEOSTLS"
      },
      "execution_count": null,
      "outputs": []
    },
    {
      "cell_type": "code",
      "source": [
        "Care_effectiveness_pivot = effectiveness_hospital_nonull.pivot_table(index=['state', 'safety_of_care_national_comparison'],values=['effectiveness_of_care_national_comparison_footnote'])"
      ],
      "metadata": {
        "id": "x3p4Y0aUSWki"
      },
      "execution_count": null,
      "outputs": []
    },
    {
      "cell_type": "code",
      "source": [
        "Care_effectiveness_pivot"
      ],
      "metadata": {
        "id": "ZDhb6pHiSaFB"
      },
      "execution_count": null,
      "outputs": []
    },
    {
      "cell_type": "code",
      "source": [
        "df_Chart2 = effectiveness_hospital_nonull[['safety_of_care_national_comparison', 'effectiveness_of_care_national_comparison_footnote']]"
      ],
      "metadata": {
        "id": "doxe8WpjSc20"
      },
      "execution_count": null,
      "outputs": []
    },
    {
      "cell_type": "code",
      "source": [
        "df_Chart2"
      ],
      "metadata": {
        "id": "8cWo10qASerW"
      },
      "execution_count": null,
      "outputs": []
    },
    {
      "cell_type": "code",
      "source": [
        "df_Chart2.plot.scatter(x='safety_of_care_national_comparison', y = 'effectiveness_of_care_national_comparison_footnote')"
      ],
      "metadata": {
        "id": "lC-gaFYWShNz"
      },
      "execution_count": null,
      "outputs": []
    }
  ]
}