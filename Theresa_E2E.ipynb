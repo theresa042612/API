{
  "nbformat": 4,
  "nbformat_minor": 0,
  "metadata": {
    "colab": {
      "name": "Theresa  E2E.ipynb",
      "provenance": [],
      "authorship_tag": "ABX9TyNRteXWulbPElxyi73ec/P3",
      "include_colab_link": true
    },
    "kernelspec": {
      "name": "python3",
      "display_name": "Python 3"
    },
    "language_info": {
      "name": "python"
    }
  },
  "cells": [
    {
      "cell_type": "markdown",
      "metadata": {
        "id": "view-in-github",
        "colab_type": "text"
      },
      "source": [
        "<a href=\"https://colab.research.google.com/github/theresa042612/API/blob/main/Theresa_E2E.ipynb\" target=\"_parent\"><img src=\"https://colab.research.google.com/assets/colab-badge.svg\" alt=\"Open In Colab\"/></a>"
      ]
    },
    {
      "cell_type": "markdown",
      "source": [
        "Setting up VM configgurations"
      ],
      "metadata": {
        "id": "3adEs-lpu8B9"
      }
    },
    {
      "cell_type": "markdown",
      "source": [
        "1. Set up a Virtual Machine on Microsoft Azure called production Use default parameter; set the authetication type as password and entered a password satisfying the criteria\n",
        "\n",
        "2. Repeat setting up A Virtual Machine on Microsoft Azure with new VM called replica (optional)\n",
        "\n",
        "3. After setting up the VM, go the networking settings and add an inbound port rule. Change service to MySQL and add name MySQL_Port3306"
      ],
      "metadata": {
        "id": "i_2uU5kVvJW-"
      }
    },
    {
      "cell_type": "markdown",
      "source": [
        "Installing mySQL on the instance:"
      ],
      "metadata": {
        "id": "K9CwDNlGvKI5"
      }
    },
    {
      "cell_type": "markdown",
      "source": [
        "4. a. For production server- Open terminal and ssh [INSERTUSERNAME] @[INSERT IP ADDRESS HERE]\n",
        "\n",
        "b. Select Yes to Are you sure you want to continue connecting? Enter Password\n",
        "\n",
        "5. Enter command sudo apt-get update"
      ],
      "metadata": {
        "id": "tyoS_duHvPwu"
      }
    },
    {
      "cell_type": "markdown",
      "source": [
        "6. a. Once updates are completed, install mySQL by entering 'sudo apt-get install my sql-client my sql-server '(into each terminal)\n",
        "\n",
        "b. Select yes to continue\n",
        "\n",
        "c. run command sudo mysql"
      ],
      "metadata": {
        "id": "RrQfv2fOvZYx"
      }
    },
    {
      "cell_type": "markdown",
      "source": [
        "Creating a mySQL user that can access all databases on that mySQL installation"
      ],
      "metadata": {
        "id": "dY7ubtGnveVN"
      }
    },
    {
      "cell_type": "markdown",
      "source": [
        "7.\n",
        "\n",
        "a. In the terminal, enter: show databases\n",
        "\n",
        "b. Run command CREATE USER 'dba'@'%' IDENTIFIED BY 'ahi2021';\n",
        "\n",
        "c. Run command GRANT ALL PRIVILEGES ON . TO 'dba'@'%' WITH GRANT OPTION; THEN CONFIRM: show grants for dba;\n",
        "\n",
        "d. To confirm this worked, login in with the command mysql -u dba -p"
      ],
      "metadata": {
        "id": "Fae5knq0viOT"
      }
    },
    {
      "cell_type": "markdown",
      "source": [
        "Creating a database called e2e"
      ],
      "metadata": {
        "id": "I7saN5WgvsOZ"
      }
    },
    {
      "cell_type": "markdown",
      "source": [
        "8.\n",
        "\n",
        "a. Run command: Create database e2e ;\n",
        "\n",
        "b. Run command: Show databases ;"
      ],
      "metadata": {
        "id": "pahCfXDTwB75"
      }
    },
    {
      "cell_type": "markdown",
      "source": [
        "Write a python or R script that connects to your SQL instance, and in that script create a new table called ‘h1n1’, that lives within the ‘e2e’ database - with the following data: https://www.kaggle.com/arashnic/flu-data"
      ],
      "metadata": {
        "id": "Q7Rtma97wE7n"
      }
    },
    {
      "cell_type": "markdown",
      "source": [
        "Step 9: Run code below in a jupyter notebook"
      ],
      "metadata": {
        "id": "mYt5n98jwIHb"
      }
    },
    {
      "cell_type": "code",
      "source": [
        "import pandas as pd \n",
        "import sqlalchemy\n",
        "from sqlalchemy import create_engine\n"
      ],
      "metadata": {
        "id": "VyOAzHLXwNSb"
      },
      "execution_count": null,
      "outputs": []
    },
    {
      "cell_type": "code",
      "source": [
        "!pip install pymysql"
      ],
      "metadata": {
        "id": "0quf4lZlwRIO"
      },
      "execution_count": null,
      "outputs": []
    },
    {
      "cell_type": "code",
      "source": [
        "!pip install cryptography"
      ],
      "metadata": {
        "id": "ToW_XQqHwpUi"
      },
      "execution_count": null,
      "outputs": []
    },
    {
      "cell_type": "code",
      "source": [
        "pip install cryptography"
      ],
      "metadata": {
        "id": "IHyiiek8wvSs"
      },
      "execution_count": null,
      "outputs": []
    },
    {
      "cell_type": "code",
      "source": [
        "MYSQL_HOSTNAME = 'IP Address'\n",
        "MYSQL_USER = 'Username'\n",
        "MYSQL_PASSWORD = 'password'\n",
        "MYSQL_DATABASE = 'e2e'"
      ],
      "metadata": {
        "id": "gQ1yS2OCwyFe"
      },
      "execution_count": null,
      "outputs": []
    },
    {
      "cell_type": "code",
      "source": [
        "connection_string = f'mysql+pymysql://{MYSQL_USER}:{MYSQL_PASSWORD}@{MYSQL_HOSTNAME}:3306/{MYSQL_DATABASE}'\n",
        "engine = create_engine(connection_string)"
      ],
      "metadata": {
        "id": "MMCZ3RGYw0J2"
      },
      "execution_count": null,
      "outputs": []
    },
    {
      "cell_type": "code",
      "source": [
        "df = pd.read_csv('https://raw.githubusercontent.com/theresa042612/HHA504_E2E_FinalAssignment/main/H1N1_Flu_Vaccines.csv')"
      ],
      "metadata": {
        "id": "VPGxzmhJw2IZ"
      },
      "execution_count": null,
      "outputs": []
    },
    {
      "cell_type": "code",
      "source": [
        "TABLENAME = 'H1N1'"
      ],
      "metadata": {
        "id": "FKqqkWVQw5cl"
      },
      "execution_count": null,
      "outputs": []
    },
    {
      "cell_type": "code",
      "source": [
        "print(engine.table_names)"
      ],
      "metadata": {
        "id": "Wu28-MFEw7aT"
      },
      "execution_count": null,
      "outputs": []
    },
    {
      "cell_type": "code",
      "source": [
        "df.to_sql(TABLENAME, con=engine)"
      ],
      "metadata": {
        "id": "HxQ6o2D0w9NH"
      },
      "execution_count": null,
      "outputs": []
    },
    {
      "cell_type": "markdown",
      "source": [
        "Fixing Connection"
      ],
      "metadata": {
        "id": "8jEBznOPw_Ua"
      }
    },
    {
      "cell_type": "markdown",
      "source": [
        "10.\n",
        "\n",
        "A. SSH into the remote machine\n",
        "\n",
        "B. Run command: sudo nano /etc/mysql/mysql.conf.d/mysqld.cnf\n",
        "\n",
        "C. Change bind address to 0.0.0.0\n",
        "\n",
        "D. Control + o enter to save, control + x to exit"
      ],
      "metadata": {
        "id": "mPsjZ9RIxDBa"
      }
    },
    {
      "cell_type": "markdown",
      "source": [
        ""
      ],
      "metadata": {
        "id": "6zociI8YxD1V"
      }
    },
    {
      "cell_type": "markdown",
      "source": [
        "11.\n",
        "\n",
        "A. Run command: /etc/init.d/mysql restart\n",
        "\n",
        "B. Rerun code from step 9!"
      ],
      "metadata": {
        "id": "ZC6WUqn8xGLx"
      }
    },
    {
      "cell_type": "markdown",
      "source": [
        "Create a dump (.sql) file that contains a physical backup of the file"
      ],
      "metadata": {
        "id": "-GbZWweFxG7t"
      }
    },
    {
      "cell_type": "markdown",
      "source": [
        "A. SSH into the production server on your terminal, run the command: sudo mysqldump -- e2e>e2e_dump.sql\n",
        "\n",
        "Check this worked with ls\n",
        "B. SSH into the replica server, run the command: scp dump.sql replica@[INSERT_IP_ADDRESS]:/home/replica"
      ],
      "metadata": {
        "id": "F9e25AVixMnj"
      }
    },
    {
      "cell_type": "markdown",
      "source": [
        "Create a trigger that pushes an error message to the user when a new row is inserted that has h1n1_concern greater than a value of 3. The trigger should be called h1n1_concern_trigger and should have the following error message: “H1N1 concern should be a numerical value between 0 and 3."
      ],
      "metadata": {
        "id": "kEuooT-PxNXb"
      }
    },
    {
      "cell_type": "code",
      "source": [
        "show databases; \n",
        "use e2e;\n",
        "select * from H1N1 limit 20;\n",
        "delimiter $$\n",
        "CREATE TRIGGER H1N1_concern_trigger BEFORE INSERT ON H1N1\n",
        "FOR EACH ROW\n",
        "BEGIN\n",
        "IF NEW.h1n1_concern > 3 THEN\n",
        "SIGNAL SQLSTATE '45000'\n",
        "SET MESSAGE_TEXT ='ERROR: H1N1 CONCERN SHOULD BE A NUMERICAL VALUE BETWEEN O AND 3. PLEASE TRY AGAIN.'\n",
        ";END IF;\n",
        "END; $$\n",
        "INSERT INTO H1N1 (h1n1_concern) VALUES (80);"
      ],
      "metadata": {
        "id": "cfLCt_kLyEuw"
      },
      "execution_count": null,
      "outputs": []
    }
  ]
}